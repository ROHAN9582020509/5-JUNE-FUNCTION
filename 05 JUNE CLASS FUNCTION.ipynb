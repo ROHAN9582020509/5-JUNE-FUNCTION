{
 "cells": [
  {
   "cell_type": "markdown",
   "id": "d472cc0b",
   "metadata": {},
   "source": [
    "# FUNCTIONS (docstrings part)"
   ]
  },
  {
   "cell_type": "code",
   "execution_count": 3,
   "id": "a15a6663",
   "metadata": {},
   "outputs": [],
   "source": [
    "def test(a , b) :\n",
    "    return a + b\n",
    "    "
   ]
  },
  {
   "cell_type": "code",
   "execution_count": 9,
   "id": "8ebe86ba",
   "metadata": {},
   "outputs": [],
   "source": [
    "def test(a , b) :\n",
    "    '''this is my function for concatination or addition'''\n",
    "    return a + b"
   ]
  },
  {
   "cell_type": "code",
   "execution_count": null,
   "id": "02209ca5",
   "metadata": {},
   "outputs": [],
   "source": [
    "Signature: test(a, b)\n",
    "Docstring: this is my function for concatination or addition\n",
    "File:      c:\\users\\amit\\appdata\\local\\temp\\ipykernel_3768\\2360688715.py\n",
    "Type:      function"
   ]
  },
  {
   "cell_type": "code",
   "execution_count": 10,
   "id": "60e8b053",
   "metadata": {},
   "outputs": [],
   "source": [
    "def test(a , b) :\n",
    "    \"\"\"this is my function for concatination or addition\"\"\"\n",
    "    return a + b\n"
   ]
  },
  {
   "cell_type": "code",
   "execution_count": 4,
   "id": "648edcdd",
   "metadata": {
    "scrolled": true
   },
   "outputs": [
    {
     "ename": "TypeError",
     "evalue": "test() missing 2 required positional arguments: 'a' and 'b'",
     "output_type": "error",
     "traceback": [
      "\u001b[1;31m---------------------------------------------------------------------------\u001b[0m",
      "\u001b[1;31mTypeError\u001b[0m                                 Traceback (most recent call last)",
      "Input \u001b[1;32mIn [4]\u001b[0m, in \u001b[0;36m<cell line: 1>\u001b[1;34m()\u001b[0m\n\u001b[1;32m----> 1\u001b[0m \u001b[43mtest\u001b[49m\u001b[43m(\u001b[49m\u001b[43m)\u001b[49m\n",
      "\u001b[1;31mTypeError\u001b[0m: test() missing 2 required positional arguments: 'a' and 'b'"
     ]
    }
   ],
   "source": [
    "test()"
   ]
  },
  {
   "cell_type": "code",
   "execution_count": 5,
   "id": "b2105e00",
   "metadata": {},
   "outputs": [
    {
     "data": {
      "text/plain": [
       "10"
      ]
     },
     "execution_count": 5,
     "metadata": {},
     "output_type": "execute_result"
    }
   ],
   "source": [
    "test(4,6)"
   ]
  },
  {
   "cell_type": "code",
   "execution_count": 6,
   "id": "c7145b16",
   "metadata": {},
   "outputs": [
    {
     "data": {
      "text/plain": [
       "'sudhkumar'"
      ]
     },
     "execution_count": 6,
     "metadata": {},
     "output_type": "execute_result"
    }
   ],
   "source": [
    "test(\"sudh\" , \"kumar\")"
   ]
  },
  {
   "cell_type": "code",
   "execution_count": 7,
   "id": "c5748cce",
   "metadata": {},
   "outputs": [
    {
     "data": {
      "text/plain": [
       "15"
      ]
     },
     "execution_count": 7,
     "metadata": {},
     "output_type": "execute_result"
    }
   ],
   "source": [
    "test(a=9 , b=6 )"
   ]
  },
  {
   "cell_type": "code",
   "execution_count": 8,
   "id": "19408bba",
   "metadata": {},
   "outputs": [
    {
     "data": {
      "text/plain": [
       "48"
      ]
     },
     "execution_count": 8,
     "metadata": {},
     "output_type": "execute_result"
    }
   ],
   "source": [
    "test(b = 45 , a = 3)"
   ]
  },
  {
   "cell_type": "code",
   "execution_count": null,
   "id": "3a05e807",
   "metadata": {},
   "outputs": [],
   "source": [
    "print()"
   ]
  },
  {
   "cell_type": "code",
   "execution_count": null,
   "id": "0be8d86d",
   "metadata": {},
   "outputs": [],
   "source": [
    "Docstring:\n",
    "print(value, ..., sep=' ', end='\\n', file=sys.stdout, flush=False)\n",
    "\n",
    "Prints the values to a stream, or to sys.stdout by default.\n",
    "Optional keyword arguments:\n",
    "file:  a file-like object (stream); defaults to the current sys.stdout.\n",
    "sep:   string inserted between values, default a space.\n",
    "end:   string appended after the last value, default a newline.\n",
    "flush: whether to forcibly flush the stream.\n",
    "Type:      builtin_function_or_method"
   ]
  },
  {
   "cell_type": "code",
   "execution_count": 11,
   "id": "f999fe82",
   "metadata": {},
   "outputs": [
    {
     "name": "stdout",
     "output_type": "stream",
     "text": [
      "\n"
     ]
    }
   ],
   "source": [
    "print()"
   ]
  },
  {
   "cell_type": "code",
   "execution_count": 12,
   "id": "89660838",
   "metadata": {},
   "outputs": [],
   "source": [
    "def test1(a,b,c,d,e) :\n",
    "    return a, b, c, d, e\n"
   ]
  },
  {
   "cell_type": "code",
   "execution_count": 13,
   "id": "8519c438",
   "metadata": {},
   "outputs": [
    {
     "ename": "TypeError",
     "evalue": "test1() takes 5 positional arguments but 6 were given",
     "output_type": "error",
     "traceback": [
      "\u001b[1;31m---------------------------------------------------------------------------\u001b[0m",
      "\u001b[1;31mTypeError\u001b[0m                                 Traceback (most recent call last)",
      "Input \u001b[1;32mIn [13]\u001b[0m, in \u001b[0;36m<cell line: 1>\u001b[1;34m()\u001b[0m\n\u001b[1;32m----> 1\u001b[0m \u001b[43mtest1\u001b[49m\u001b[43m(\u001b[49m\u001b[38;5;241;43m3\u001b[39;49m\u001b[43m,\u001b[49m\u001b[38;5;241;43m4\u001b[39;49m\u001b[43m,\u001b[49m\u001b[38;5;241;43m5\u001b[39;49m\u001b[43m,\u001b[49m\u001b[38;5;241;43m6\u001b[39;49m\u001b[43m,\u001b[49m\u001b[38;5;241;43m7\u001b[39;49m\u001b[43m,\u001b[49m\u001b[38;5;241;43m7\u001b[39;49m\u001b[43m)\u001b[49m\n",
      "\u001b[1;31mTypeError\u001b[0m: test1() takes 5 positional arguments but 6 were given"
     ]
    }
   ],
   "source": [
    "test1(3,4,5,6,7,7)"
   ]
  },
  {
   "cell_type": "code",
   "execution_count": 14,
   "id": "a60312c7",
   "metadata": {},
   "outputs": [
    {
     "data": {
      "text/plain": [
       "(3, 4, 5, 6, 7)"
      ]
     },
     "execution_count": 14,
     "metadata": {},
     "output_type": "execute_result"
    }
   ],
   "source": [
    "test1(3,4,5,6,7)"
   ]
  },
  {
   "cell_type": "markdown",
   "id": "b5d490a4",
   "metadata": {},
   "source": [
    "# staric perimeter i can provide a any number of a perimeter that i am looking for "
   ]
  },
  {
   "cell_type": "code",
   "execution_count": 15,
   "id": "4ecbe7f8",
   "metadata": {},
   "outputs": [],
   "source": [
    "def test(*a):\n",
    "    return a"
   ]
  },
  {
   "cell_type": "code",
   "execution_count": 16,
   "id": "a1d697ff",
   "metadata": {},
   "outputs": [
    {
     "data": {
      "text/plain": [
       "(34, 56)"
      ]
     },
     "execution_count": 16,
     "metadata": {},
     "output_type": "execute_result"
    }
   ],
   "source": [
    "test(34,56)"
   ]
  },
  {
   "cell_type": "code",
   "execution_count": 17,
   "id": "9ef9ecfb",
   "metadata": {},
   "outputs": [
    {
     "data": {
      "text/plain": [
       "(2, 3, 4, 4)"
      ]
     },
     "execution_count": 17,
     "metadata": {},
     "output_type": "execute_result"
    }
   ],
   "source": [
    "test(2,3,4,4)"
   ]
  },
  {
   "cell_type": "code",
   "execution_count": 18,
   "id": "17568d13",
   "metadata": {},
   "outputs": [
    {
     "data": {
      "text/plain": [
       "(4, 5, 6, 6, 6, [3, 4, 5, 5, 5, 6])"
      ]
     },
     "execution_count": 18,
     "metadata": {},
     "output_type": "execute_result"
    }
   ],
   "source": [
    "test(4,5,6,6,6,[3,4,5,5,5,6])"
   ]
  },
  {
   "cell_type": "code",
   "execution_count": 19,
   "id": "cbca426a",
   "metadata": {},
   "outputs": [],
   "source": [
    "def test4(*args):\n",
    "    return args"
   ]
  },
  {
   "cell_type": "code",
   "execution_count": 20,
   "id": "df49c5f3",
   "metadata": {},
   "outputs": [
    {
     "data": {
      "text/plain": [
       "(34, 56, 6, 76, 7)"
      ]
     },
     "execution_count": 20,
     "metadata": {},
     "output_type": "execute_result"
    }
   ],
   "source": [
    "test(34,56,6,76,7)"
   ]
  },
  {
   "cell_type": "code",
   "execution_count": 21,
   "id": "8ccc08b6",
   "metadata": {},
   "outputs": [],
   "source": [
    "def test5(*a) :\n",
    "    l = []\n",
    "    for i in a :\n",
    "        l.append(i)\n",
    "    return l"
   ]
  },
  {
   "cell_type": "code",
   "execution_count": 22,
   "id": "66f0a771",
   "metadata": {},
   "outputs": [
    {
     "data": {
      "text/plain": [
       "[2, 3, 4, 45, 5, [345, 56, 5, 6]]"
      ]
     },
     "execution_count": 22,
     "metadata": {},
     "output_type": "execute_result"
    }
   ],
   "source": [
    "test5(2,3,4,45,5,[345,56,5,6])"
   ]
  },
  {
   "cell_type": "code",
   "execution_count": 23,
   "id": "5dd1181d",
   "metadata": {},
   "outputs": [
    {
     "data": {
      "text/plain": [
       "[3, 4, 5, 56]"
      ]
     },
     "execution_count": 23,
     "metadata": {},
     "output_type": "execute_result"
    }
   ],
   "source": [
    "test5(3,4,5,56)"
   ]
  },
  {
   "cell_type": "code",
   "execution_count": 24,
   "id": "4584ad29",
   "metadata": {},
   "outputs": [],
   "source": [
    "def test6(a,b,c,d , *m):\n",
    "    return a , b, c, d, m"
   ]
  },
  {
   "cell_type": "code",
   "execution_count": 25,
   "id": "534b08bb",
   "metadata": {},
   "outputs": [
    {
     "data": {
      "text/plain": [
       "(3, 4, 5, 5, (6, 6, 7, 7, 8, 8))"
      ]
     },
     "execution_count": 25,
     "metadata": {},
     "output_type": "execute_result"
    }
   ],
   "source": [
    "test6(3,4,5,5,6,6,7,7,8,8)"
   ]
  },
  {
   "cell_type": "code",
   "execution_count": 29,
   "id": "a3589772",
   "metadata": {},
   "outputs": [
    {
     "ename": "IndentationError",
     "evalue": "expected an indented block (2368971861.py, line 1)",
     "output_type": "error",
     "traceback": [
      "\u001b[1;36m  Input \u001b[1;32mIn [29]\u001b[1;36m\u001b[0m\n\u001b[1;33m    def test7(*m,a,b,c,d,e):\u001b[0m\n\u001b[1;37m                            ^\u001b[0m\n\u001b[1;31mIndentationError\u001b[0m\u001b[1;31m:\u001b[0m expected an indented block\n"
     ]
    }
   ],
   "source": [
    "def test7(*m,a,b,c,d,e):"
   ]
  },
  {
   "cell_type": "code",
   "execution_count": 30,
   "id": "6c9c3264",
   "metadata": {},
   "outputs": [],
   "source": [
    "def test7(*m,a,b,c,d,e):\n",
    "    return m , a,b,c,d,e"
   ]
  },
  {
   "cell_type": "code",
   "execution_count": 31,
   "id": "0359ba4d",
   "metadata": {},
   "outputs": [
    {
     "ename": "TypeError",
     "evalue": "test7() missing 5 required keyword-only arguments: 'a', 'b', 'c', 'd', and 'e'",
     "output_type": "error",
     "traceback": [
      "\u001b[1;31m---------------------------------------------------------------------------\u001b[0m",
      "\u001b[1;31mTypeError\u001b[0m                                 Traceback (most recent call last)",
      "Input \u001b[1;32mIn [31]\u001b[0m, in \u001b[0;36m<cell line: 1>\u001b[1;34m()\u001b[0m\n\u001b[1;32m----> 1\u001b[0m \u001b[43mtest7\u001b[49m\u001b[43m(\u001b[49m\u001b[38;5;241;43m4\u001b[39;49m\u001b[43m,\u001b[49m\u001b[38;5;241;43m5\u001b[39;49m\u001b[43m,\u001b[49m\u001b[38;5;241;43m65\u001b[39;49m\u001b[43m,\u001b[49m\u001b[38;5;241;43m6\u001b[39;49m\u001b[43m,\u001b[49m\u001b[38;5;241;43m6\u001b[39;49m\u001b[43m,\u001b[49m\u001b[38;5;241;43m7\u001b[39;49m\u001b[43m,\u001b[49m\u001b[38;5;241;43m7\u001b[39;49m\u001b[43m,\u001b[49m\u001b[38;5;241;43m56\u001b[39;49m\u001b[43m,\u001b[49m\u001b[38;5;241;43m67\u001b[39;49m\u001b[43m,\u001b[49m\u001b[38;5;241;43m34\u001b[39;49m\u001b[43m,\u001b[49m\u001b[38;5;241;43m54\u001b[39;49m\u001b[43m,\u001b[49m\u001b[38;5;241;43m67\u001b[39;49m\u001b[43m,\u001b[49m\u001b[38;5;241;43m78\u001b[39;49m\u001b[43m)\u001b[49m\n",
      "\u001b[1;31mTypeError\u001b[0m: test7() missing 5 required keyword-only arguments: 'a', 'b', 'c', 'd', and 'e'"
     ]
    }
   ],
   "source": [
    "test7(4,5,65,6,6,7,7,56,67,34,54,67,78)"
   ]
  },
  {
   "cell_type": "code",
   "execution_count": 32,
   "id": "87946e98",
   "metadata": {},
   "outputs": [
    {
     "data": {
      "text/plain": [
       "((4, 5, 65, 6, 6, 7, 7, 56), 67, 34, 54, 67, 78)"
      ]
     },
     "execution_count": 32,
     "metadata": {},
     "output_type": "execute_result"
    }
   ],
   "source": [
    "test7(4,5,65,6,6,7,7,56,a =67,b =34,c =54,d =67,e =78)"
   ]
  },
  {
   "cell_type": "markdown",
   "id": "b0d52825",
   "metadata": {},
   "source": [
    "# Double Asterisk or (**) is one of the Arithmetic Operator (Like +, -, *, **, /, //, %) in Python Language. It is also known as Power Operator."
   ]
  },
  {
   "cell_type": "code",
   "execution_count": 33,
   "id": "ea15e753",
   "metadata": {},
   "outputs": [],
   "source": [
    "def test8(**sudh):\n",
    "    return sudh"
   ]
  },
  {
   "cell_type": "code",
   "execution_count": 34,
   "id": "56bc40a7",
   "metadata": {},
   "outputs": [
    {
     "ename": "TypeError",
     "evalue": "test8() takes 0 positional arguments but 4 were given",
     "output_type": "error",
     "traceback": [
      "\u001b[1;31m---------------------------------------------------------------------------\u001b[0m",
      "\u001b[1;31mTypeError\u001b[0m                                 Traceback (most recent call last)",
      "Input \u001b[1;32mIn [34]\u001b[0m, in \u001b[0;36m<cell line: 1>\u001b[1;34m()\u001b[0m\n\u001b[1;32m----> 1\u001b[0m \u001b[43mtest8\u001b[49m\u001b[43m(\u001b[49m\u001b[38;5;241;43m4\u001b[39;49m\u001b[43m,\u001b[49m\u001b[38;5;241;43m5\u001b[39;49m\u001b[43m,\u001b[49m\u001b[38;5;241;43m6\u001b[39;49m\u001b[43m,\u001b[49m\u001b[38;5;241;43m6\u001b[39;49m\u001b[43m)\u001b[49m\n",
      "\u001b[1;31mTypeError\u001b[0m: test8() takes 0 positional arguments but 4 were given"
     ]
    }
   ],
   "source": [
    "test8(4,5,6,6)"
   ]
  },
  {
   "cell_type": "code",
   "execution_count": 35,
   "id": "af832715",
   "metadata": {},
   "outputs": [
    {
     "data": {
      "text/plain": [
       "{'b': 4, 'c': 5, 'd': 6, 'e': 6}"
      ]
     },
     "execution_count": 35,
     "metadata": {},
     "output_type": "execute_result"
    }
   ],
   "source": [
    "test8(b = 4,c = 5,d = 6,e = 6)"
   ]
  },
  {
   "cell_type": "code",
   "execution_count": 36,
   "id": "5514463c",
   "metadata": {},
   "outputs": [],
   "source": [
    "d = {'b': 4, 'c': 5, 'd': 6, 'e': 6}"
   ]
  },
  {
   "cell_type": "code",
   "execution_count": 37,
   "id": "aeed4065",
   "metadata": {},
   "outputs": [
    {
     "ename": "TypeError",
     "evalue": "test8() takes 0 positional arguments but 1 was given",
     "output_type": "error",
     "traceback": [
      "\u001b[1;31m---------------------------------------------------------------------------\u001b[0m",
      "\u001b[1;31mTypeError\u001b[0m                                 Traceback (most recent call last)",
      "Input \u001b[1;32mIn [37]\u001b[0m, in \u001b[0;36m<cell line: 1>\u001b[1;34m()\u001b[0m\n\u001b[1;32m----> 1\u001b[0m \u001b[43mtest8\u001b[49m\u001b[43m(\u001b[49m\u001b[43md\u001b[49m\u001b[43m)\u001b[49m\n",
      "\u001b[1;31mTypeError\u001b[0m: test8() takes 0 positional arguments but 1 was given"
     ]
    }
   ],
   "source": [
    "test8(d)"
   ]
  },
  {
   "cell_type": "code",
   "execution_count": 38,
   "id": "b099b0de",
   "metadata": {},
   "outputs": [
    {
     "data": {
      "text/plain": [
       "{'b': 4, 'c': 5, 'd': 6, 'e': 6, 'n': [3, 4, 45, 5, 6, 6, 6]}"
      ]
     },
     "execution_count": 38,
     "metadata": {},
     "output_type": "execute_result"
    }
   ],
   "source": [
    "test8(b = 4,c = 5,d = 6,e = 6 , n = [3,4,45,5,6,6,6])"
   ]
  },
  {
   "cell_type": "markdown",
   "id": "c79093b1",
   "metadata": {},
   "source": [
    "# Single Asterisk allows the developer to pass a variable number of Positional parameters and automatically converts the input values in the form of tuples. At the same time,                                      Double Asterisks allows the users to pass a variable number of Keyword parameters in the form of a Dictionary."
   ]
  },
  {
   "cell_type": "code",
   "execution_count": 39,
   "id": "f6ecb5f8",
   "metadata": {},
   "outputs": [],
   "source": [
    "def test9(*m , **s) :\n",
    "    return m , s"
   ]
  },
  {
   "cell_type": "code",
   "execution_count": 40,
   "id": "55ef44f8",
   "metadata": {},
   "outputs": [
    {
     "ename": "TypeError",
     "evalue": "test() got an unexpected keyword argument 'b'",
     "output_type": "error",
     "traceback": [
      "\u001b[1;31m---------------------------------------------------------------------------\u001b[0m",
      "\u001b[1;31mTypeError\u001b[0m                                 Traceback (most recent call last)",
      "Input \u001b[1;32mIn [40]\u001b[0m, in \u001b[0;36m<cell line: 1>\u001b[1;34m()\u001b[0m\n\u001b[1;32m----> 1\u001b[0m \u001b[43mtest\u001b[49m\u001b[43m(\u001b[49m\u001b[38;5;241;43m345\u001b[39;49m\u001b[43m,\u001b[49m\u001b[38;5;241;43m45\u001b[39;49m\u001b[43m,\u001b[49m\u001b[38;5;241;43m56\u001b[39;49m\u001b[43m,\u001b[49m\u001b[38;5;241;43m5\u001b[39;49m\u001b[43m,\u001b[49m\u001b[38;5;241;43m6\u001b[39;49m\u001b[43m,\u001b[49m\u001b[38;5;241;43m56\u001b[39;49m\u001b[43m,\u001b[49m\u001b[43mb\u001b[49m\u001b[38;5;241;43m=\u001b[39;49m\u001b[43m \u001b[49m\u001b[38;5;241;43m4\u001b[39;49m\u001b[43m,\u001b[49m\u001b[43mc\u001b[49m\u001b[43m \u001b[49m\u001b[38;5;241;43m=\u001b[39;49m\u001b[38;5;241;43m6\u001b[39;49m\u001b[43m,\u001b[49m\u001b[43md\u001b[49m\u001b[43m \u001b[49m\u001b[38;5;241;43m=\u001b[39;49m\u001b[38;5;241;43m7\u001b[39;49m\u001b[43m,\u001b[49m\u001b[43mg\u001b[49m\u001b[43m \u001b[49m\u001b[38;5;241;43m=\u001b[39;49m\u001b[38;5;241;43m9\u001b[39;49m\u001b[43m)\u001b[49m\n",
      "\u001b[1;31mTypeError\u001b[0m: test() got an unexpected keyword argument 'b'"
     ]
    }
   ],
   "source": [
    "test(345,45,56,5,6,56,b= 4,c =6,d =7,g =9)"
   ]
  },
  {
   "cell_type": "code",
   "execution_count": 41,
   "id": "38e114a8",
   "metadata": {},
   "outputs": [
    {
     "data": {
      "text/plain": [
       "((345, 45, 56, 5, 6, 56), {'b': 4, 'c': 6, 'd': 7, 'g': 9})"
      ]
     },
     "execution_count": 41,
     "metadata": {},
     "output_type": "execute_result"
    }
   ],
   "source": [
    "test9(345,45,56,5,6,56,b= 4,c =6,d =7,g =9)"
   ]
  },
  {
   "cell_type": "markdown",
   "id": "59e0452a",
   "metadata": {},
   "source": [
    "# below is tuple"
   ]
  },
  {
   "cell_type": "code",
   "execution_count": 42,
   "id": "bea47454",
   "metadata": {},
   "outputs": [],
   "source": [
    "def test10(*m):\n",
    "    n = 0\n",
    "    for i in m :\n",
    "        if type(i) == int :\n",
    "            n = n+i\n",
    "    return n\n"
   ]
  },
  {
   "cell_type": "code",
   "execution_count": 43,
   "id": "eea7f3bf",
   "metadata": {},
   "outputs": [
    {
     "data": {
      "text/plain": [
       "31"
      ]
     },
     "execution_count": 43,
     "metadata": {},
     "output_type": "execute_result"
    }
   ],
   "source": [
    "test10(2,3,4,5,5,6,6)"
   ]
  },
  {
   "cell_type": "code",
   "execution_count": 44,
   "id": "e6ea55c4",
   "metadata": {},
   "outputs": [
    {
     "data": {
      "text/plain": [
       "9"
      ]
     },
     "execution_count": 44,
     "metadata": {},
     "output_type": "execute_result"
    }
   ],
   "source": [
    "test10(2,3,4)"
   ]
  },
  {
   "cell_type": "code",
   "execution_count": 49,
   "id": "12137c08",
   "metadata": {},
   "outputs": [],
   "source": [
    "def test1(*m):\n",
    "    n = 1\n",
    "    for i in m :\n",
    "        if type(i) == int :\n",
    "            n = n*i\n",
    "    return n\n"
   ]
  },
  {
   "cell_type": "code",
   "execution_count": 50,
   "id": "93223aa3",
   "metadata": {},
   "outputs": [
    {
     "data": {
      "text/plain": [
       "3507840"
      ]
     },
     "execution_count": 50,
     "metadata": {},
     "output_type": "execute_result"
    }
   ],
   "source": [
    "test1(4,5,6,6,7,87,8)"
   ]
  },
  {
   "cell_type": "markdown",
   "id": "22b34f7e",
   "metadata": {},
   "source": [
    "# A lambda function is a small anonymous function. A lambda function can take any number of arguments, but can only have one expression."
   ]
  },
  {
   "cell_type": "code",
   "execution_count": 51,
   "id": "62114331",
   "metadata": {},
   "outputs": [
    {
     "data": {
      "text/plain": [
       "<function __main__.<lambda>(a, b)>"
      ]
     },
     "execution_count": 51,
     "metadata": {},
     "output_type": "execute_result"
    }
   ],
   "source": [
    "lambda a , b : a + b"
   ]
  },
  {
   "cell_type": "code",
   "execution_count": 52,
   "id": "f7693d54",
   "metadata": {},
   "outputs": [],
   "source": [
    "n = lambda a , b : a + b"
   ]
  },
  {
   "cell_type": "code",
   "execution_count": 53,
   "id": "527a64bd",
   "metadata": {},
   "outputs": [
    {
     "data": {
      "text/plain": [
       "9"
      ]
     },
     "execution_count": 53,
     "metadata": {},
     "output_type": "execute_result"
    }
   ],
   "source": [
    "n(4,5)"
   ]
  },
  {
   "cell_type": "code",
   "execution_count": 54,
   "id": "a1b2e71c",
   "metadata": {},
   "outputs": [],
   "source": [
    "def test5(a,b):\n",
    "    return a + b"
   ]
  },
  {
   "cell_type": "code",
   "execution_count": 55,
   "id": "3c152ceb",
   "metadata": {},
   "outputs": [
    {
     "data": {
      "text/plain": [
       "9"
      ]
     },
     "execution_count": 55,
     "metadata": {},
     "output_type": "execute_result"
    }
   ],
   "source": [
    "test5(4,5)"
   ]
  },
  {
   "cell_type": "code",
   "execution_count": 56,
   "id": "86402b72",
   "metadata": {},
   "outputs": [
    {
     "data": {
      "text/plain": [
       "11"
      ]
     },
     "execution_count": 56,
     "metadata": {},
     "output_type": "execute_result"
    }
   ],
   "source": [
    "n(5,6)"
   ]
  },
  {
   "cell_type": "code",
   "execution_count": 57,
   "id": "57a8d876",
   "metadata": {},
   "outputs": [],
   "source": [
    "b = lambda *sudh : sudh"
   ]
  },
  {
   "cell_type": "code",
   "execution_count": 58,
   "id": "0236004b",
   "metadata": {},
   "outputs": [
    {
     "data": {
      "text/plain": [
       "(45, 5, 4, 5, 5, 6, 677)"
      ]
     },
     "execution_count": 58,
     "metadata": {},
     "output_type": "execute_result"
    }
   ],
   "source": [
    "b(45,5,4,5,5,6,677)"
   ]
  },
  {
   "cell_type": "markdown",
   "id": "398a02f6",
   "metadata": {},
   "source": [
    "# comprehension operation = We can create new sequences using a given python sequence. This is called comprehension. It basically a way of writing a concise code block to generate a sequence which can be a list, dictionary, set or a generator by using another sequence."
   ]
  },
  {
   "cell_type": "code",
   "execution_count": 59,
   "id": "000b1ee9",
   "metadata": {},
   "outputs": [],
   "source": [
    "t = (3,4,4,5,5,6,67,7,7)\n",
    "l = []\n",
    "for i in t :\n",
    "    l.append(i)"
   ]
  },
  {
   "cell_type": "code",
   "execution_count": 60,
   "id": "db8ed13d",
   "metadata": {},
   "outputs": [
    {
     "data": {
      "text/plain": [
       "[3, 4, 4, 5, 5, 6, 67, 7, 7]"
      ]
     },
     "execution_count": 60,
     "metadata": {},
     "output_type": "execute_result"
    }
   ],
   "source": [
    "l"
   ]
  },
  {
   "cell_type": "markdown",
   "id": "51388dec",
   "metadata": {},
   "source": [
    "# list comprehension operation"
   ]
  },
  {
   "cell_type": "code",
   "execution_count": 61,
   "id": "e6ae0126",
   "metadata": {},
   "outputs": [
    {
     "data": {
      "text/plain": [
       "[3, 4, 4, 5, 5, 6, 67, 7, 7]"
      ]
     },
     "execution_count": 61,
     "metadata": {},
     "output_type": "execute_result"
    }
   ],
   "source": [
    "[i for i in t]"
   ]
  },
  {
   "cell_type": "code",
   "execution_count": 62,
   "id": "987b65c6",
   "metadata": {},
   "outputs": [],
   "source": [
    "s = \"sudh\""
   ]
  },
  {
   "cell_type": "code",
   "execution_count": 63,
   "id": "f65a71b2",
   "metadata": {},
   "outputs": [
    {
     "data": {
      "text/plain": [
       "['s', 'u', 'd', 'h']"
      ]
     },
     "execution_count": 63,
     "metadata": {},
     "output_type": "execute_result"
    }
   ],
   "source": [
    "[i for i in s]"
   ]
  },
  {
   "cell_type": "code",
   "execution_count": 64,
   "id": "9726e45e",
   "metadata": {},
   "outputs": [
    {
     "data": {
      "text/plain": [
       "[0, 1, 4, 9, 16, 25, 36, 49, 64, 81]"
      ]
     },
     "execution_count": 64,
     "metadata": {},
     "output_type": "execute_result"
    }
   ],
   "source": [
    "[i*i for i in range(10)]"
   ]
  },
  {
   "cell_type": "code",
   "execution_count": 65,
   "id": "f3f14a8e",
   "metadata": {},
   "outputs": [],
   "source": [
    "l = []\n",
    "for i in range(10):\n",
    "    l.append(i*i)"
   ]
  },
  {
   "cell_type": "code",
   "execution_count": 66,
   "id": "51286ba1",
   "metadata": {},
   "outputs": [
    {
     "data": {
      "text/plain": [
       "[0, 1, 4, 9, 16, 25, 36, 49, 64, 81]"
      ]
     },
     "execution_count": 66,
     "metadata": {},
     "output_type": "execute_result"
    }
   ],
   "source": [
    "l\n"
   ]
  },
  {
   "cell_type": "code",
   "execution_count": 67,
   "id": "83549aeb",
   "metadata": {},
   "outputs": [],
   "source": [
    "l = lambda *x : [i for i in x]"
   ]
  },
  {
   "cell_type": "code",
   "execution_count": 68,
   "id": "c468c0ab",
   "metadata": {},
   "outputs": [
    {
     "data": {
      "text/plain": [
       "[4, 45, 5, 6, 6, 7, 8, 9]"
      ]
     },
     "execution_count": 68,
     "metadata": {},
     "output_type": "execute_result"
    }
   ],
   "source": [
    "l(4,45,5,6,6,7,8,9)"
   ]
  },
  {
   "cell_type": "code",
   "execution_count": 71,
   "id": "ae3d294e",
   "metadata": {},
   "outputs": [],
   "source": [
    "l = lambda *x : [i**2 for i in x]"
   ]
  },
  {
   "cell_type": "code",
   "execution_count": 78,
   "id": "9b81dac9",
   "metadata": {},
   "outputs": [
    {
     "data": {
      "text/plain": [
       "[16, 2025, 25, 36, 36, 49, 64, 81]"
      ]
     },
     "execution_count": 78,
     "metadata": {},
     "output_type": "execute_result"
    }
   ],
   "source": [
    "l(4,45,5,6,6,7,8,9)"
   ]
  },
  {
   "cell_type": "code",
   "execution_count": null,
   "id": "60ed98f8",
   "metadata": {},
   "outputs": [],
   "source": [
    "test14(a = 7, b = \"sudh\" , c = 345 , d = \"sudh\" , l = [2,3,4,45 , \"sudh\"])"
   ]
  },
  {
   "cell_type": "code",
   "execution_count": null,
   "id": "37e7e7bc",
   "metadata": {},
   "outputs": [],
   "source": [
    "def test14(**kwargs) :\n",
    "    "
   ]
  },
  {
   "cell_type": "code",
   "execution_count": 81,
   "id": "78e89752",
   "metadata": {},
   "outputs": [],
   "source": [
    "def test14(**k):\n",
    "    l=[]\n",
    "    for i in k:\n",
    "        if type(i)== str:\n",
    "            l.count(i)\n",
    "            "
   ]
  },
  {
   "cell_type": "code",
   "execution_count": 82,
   "id": "4562b227",
   "metadata": {},
   "outputs": [],
   "source": [
    "test14(a = 7, b = \"sudh\" , c = 345 , d = \"sudh\" , l = [2,3,4,45 , \"sudh\"])"
   ]
  },
  {
   "cell_type": "code",
   "execution_count": 84,
   "id": "6ff6b345",
   "metadata": {},
   "outputs": [],
   "source": [
    "def test14(**kwargs):\n",
    "    count = 0\n",
    "    for c,v in kwargs:\n",
    "        if type(c) == str or type(v) == str:\n",
    "            count += 1\n",
    "    return count\n",
    "\n"
   ]
  },
  {
   "cell_type": "code",
   "execution_count": 85,
   "id": "76099a57",
   "metadata": {},
   "outputs": [
    {
     "ename": "ValueError",
     "evalue": "not enough values to unpack (expected 2, got 1)",
     "output_type": "error",
     "traceback": [
      "\u001b[1;31m---------------------------------------------------------------------------\u001b[0m",
      "\u001b[1;31mValueError\u001b[0m                                Traceback (most recent call last)",
      "Input \u001b[1;32mIn [85]\u001b[0m, in \u001b[0;36m<cell line: 1>\u001b[1;34m()\u001b[0m\n\u001b[1;32m----> 1\u001b[0m \u001b[43mtest14\u001b[49m\u001b[43m(\u001b[49m\u001b[43ma\u001b[49m\u001b[43m \u001b[49m\u001b[38;5;241;43m=\u001b[39;49m\u001b[43m \u001b[49m\u001b[38;5;241;43m7\u001b[39;49m\u001b[43m,\u001b[49m\u001b[43m \u001b[49m\u001b[43mb\u001b[49m\u001b[43m \u001b[49m\u001b[38;5;241;43m=\u001b[39;49m\u001b[43m \u001b[49m\u001b[38;5;124;43m\"\u001b[39;49m\u001b[38;5;124;43msudh\u001b[39;49m\u001b[38;5;124;43m\"\u001b[39;49m\u001b[43m \u001b[49m\u001b[43m,\u001b[49m\u001b[43m \u001b[49m\u001b[43mc\u001b[49m\u001b[43m \u001b[49m\u001b[38;5;241;43m=\u001b[39;49m\u001b[43m \u001b[49m\u001b[38;5;241;43m345\u001b[39;49m\u001b[43m \u001b[49m\u001b[43m,\u001b[49m\u001b[43m \u001b[49m\u001b[43md\u001b[49m\u001b[43m \u001b[49m\u001b[38;5;241;43m=\u001b[39;49m\u001b[43m \u001b[49m\u001b[38;5;124;43m\"\u001b[39;49m\u001b[38;5;124;43msudh\u001b[39;49m\u001b[38;5;124;43m\"\u001b[39;49m\u001b[43m \u001b[49m\u001b[43m,\u001b[49m\u001b[43m \u001b[49m\u001b[43ml\u001b[49m\u001b[43m \u001b[49m\u001b[38;5;241;43m=\u001b[39;49m\u001b[43m \u001b[49m\u001b[43m[\u001b[49m\u001b[38;5;241;43m2\u001b[39;49m\u001b[43m,\u001b[49m\u001b[38;5;241;43m3\u001b[39;49m\u001b[43m,\u001b[49m\u001b[38;5;241;43m4\u001b[39;49m\u001b[43m,\u001b[49m\u001b[38;5;241;43m45\u001b[39;49m\u001b[43m \u001b[49m\u001b[43m,\u001b[49m\u001b[43m \u001b[49m\u001b[38;5;124;43m\"\u001b[39;49m\u001b[38;5;124;43msudh\u001b[39;49m\u001b[38;5;124;43m\"\u001b[39;49m\u001b[43m]\u001b[49m\u001b[43m)\u001b[49m\n",
      "Input \u001b[1;32mIn [84]\u001b[0m, in \u001b[0;36mtest14\u001b[1;34m(**kwargs)\u001b[0m\n\u001b[0;32m      1\u001b[0m \u001b[38;5;28;01mdef\u001b[39;00m \u001b[38;5;21mtest14\u001b[39m(\u001b[38;5;241m*\u001b[39m\u001b[38;5;241m*\u001b[39mkwargs):\n\u001b[0;32m      2\u001b[0m     count \u001b[38;5;241m=\u001b[39m \u001b[38;5;241m0\u001b[39m\n\u001b[1;32m----> 3\u001b[0m     \u001b[38;5;28;01mfor\u001b[39;00m c,v \u001b[38;5;129;01min\u001b[39;00m kwargs:\n\u001b[0;32m      4\u001b[0m         \u001b[38;5;28;01mif\u001b[39;00m \u001b[38;5;28mtype\u001b[39m(c) \u001b[38;5;241m==\u001b[39m \u001b[38;5;28mstr\u001b[39m \u001b[38;5;129;01mor\u001b[39;00m \u001b[38;5;28mtype\u001b[39m(v) \u001b[38;5;241m==\u001b[39m \u001b[38;5;28mstr\u001b[39m:\n\u001b[0;32m      5\u001b[0m             count \u001b[38;5;241m+\u001b[39m\u001b[38;5;241m=\u001b[39m \u001b[38;5;241m1\u001b[39m\n",
      "\u001b[1;31mValueError\u001b[0m: not enough values to unpack (expected 2, got 1)"
     ]
    }
   ],
   "source": [
    "test14(a = 7, b = \"sudh\" , c = 345 , d = \"sudh\" , l = [2,3,4,45 , \"sudh\"])"
   ]
  },
  {
   "cell_type": "code",
   "execution_count": 86,
   "id": "754c5875",
   "metadata": {},
   "outputs": [],
   "source": [
    "def test14(**kwargs):\n",
    "    count = 0\n",
    "    for v in kwargs.values():\n",
    "        if type(c) == str or type(v) == str:\n",
    "            count += 1\n",
    "    return count\n",
    "\n"
   ]
  },
  {
   "cell_type": "code",
   "execution_count": 87,
   "id": "9882fb01",
   "metadata": {},
   "outputs": [
    {
     "ename": "NameError",
     "evalue": "name 'c' is not defined",
     "output_type": "error",
     "traceback": [
      "\u001b[1;31m---------------------------------------------------------------------------\u001b[0m",
      "\u001b[1;31mNameError\u001b[0m                                 Traceback (most recent call last)",
      "Input \u001b[1;32mIn [87]\u001b[0m, in \u001b[0;36m<cell line: 1>\u001b[1;34m()\u001b[0m\n\u001b[1;32m----> 1\u001b[0m \u001b[43mtest14\u001b[49m\u001b[43m(\u001b[49m\u001b[43ma\u001b[49m\u001b[43m \u001b[49m\u001b[38;5;241;43m=\u001b[39;49m\u001b[43m \u001b[49m\u001b[38;5;241;43m7\u001b[39;49m\u001b[43m,\u001b[49m\u001b[43m \u001b[49m\u001b[43mb\u001b[49m\u001b[43m \u001b[49m\u001b[38;5;241;43m=\u001b[39;49m\u001b[43m \u001b[49m\u001b[38;5;124;43m\"\u001b[39;49m\u001b[38;5;124;43msudh\u001b[39;49m\u001b[38;5;124;43m\"\u001b[39;49m\u001b[43m \u001b[49m\u001b[43m,\u001b[49m\u001b[43m \u001b[49m\u001b[43mc\u001b[49m\u001b[43m \u001b[49m\u001b[38;5;241;43m=\u001b[39;49m\u001b[43m \u001b[49m\u001b[38;5;241;43m345\u001b[39;49m\u001b[43m \u001b[49m\u001b[43m,\u001b[49m\u001b[43m \u001b[49m\u001b[43md\u001b[49m\u001b[43m \u001b[49m\u001b[38;5;241;43m=\u001b[39;49m\u001b[43m \u001b[49m\u001b[38;5;124;43m\"\u001b[39;49m\u001b[38;5;124;43msudh\u001b[39;49m\u001b[38;5;124;43m\"\u001b[39;49m\u001b[43m \u001b[49m\u001b[43m,\u001b[49m\u001b[43m \u001b[49m\u001b[43ml\u001b[49m\u001b[43m \u001b[49m\u001b[38;5;241;43m=\u001b[39;49m\u001b[43m \u001b[49m\u001b[43m[\u001b[49m\u001b[38;5;241;43m2\u001b[39;49m\u001b[43m,\u001b[49m\u001b[38;5;241;43m3\u001b[39;49m\u001b[43m,\u001b[49m\u001b[38;5;241;43m4\u001b[39;49m\u001b[43m,\u001b[49m\u001b[38;5;241;43m45\u001b[39;49m\u001b[43m \u001b[49m\u001b[43m,\u001b[49m\u001b[43m \u001b[49m\u001b[38;5;124;43m\"\u001b[39;49m\u001b[38;5;124;43msudh\u001b[39;49m\u001b[38;5;124;43m\"\u001b[39;49m\u001b[43m]\u001b[49m\u001b[43m)\u001b[49m\n",
      "Input \u001b[1;32mIn [86]\u001b[0m, in \u001b[0;36mtest14\u001b[1;34m(**kwargs)\u001b[0m\n\u001b[0;32m      2\u001b[0m count \u001b[38;5;241m=\u001b[39m \u001b[38;5;241m0\u001b[39m\n\u001b[0;32m      3\u001b[0m \u001b[38;5;28;01mfor\u001b[39;00m v \u001b[38;5;129;01min\u001b[39;00m kwargs\u001b[38;5;241m.\u001b[39mvalues():\n\u001b[1;32m----> 4\u001b[0m     \u001b[38;5;28;01mif\u001b[39;00m \u001b[38;5;28mtype\u001b[39m(\u001b[43mc\u001b[49m) \u001b[38;5;241m==\u001b[39m \u001b[38;5;28mstr\u001b[39m \u001b[38;5;129;01mor\u001b[39;00m \u001b[38;5;28mtype\u001b[39m(v) \u001b[38;5;241m==\u001b[39m \u001b[38;5;28mstr\u001b[39m:\n\u001b[0;32m      5\u001b[0m         count \u001b[38;5;241m+\u001b[39m\u001b[38;5;241m=\u001b[39m \u001b[38;5;241m1\u001b[39m\n\u001b[0;32m      6\u001b[0m \u001b[38;5;28;01mreturn\u001b[39;00m count\n",
      "\u001b[1;31mNameError\u001b[0m: name 'c' is not defined"
     ]
    }
   ],
   "source": [
    "test14(a = 7, b = \"sudh\" , c = 345 , d = \"sudh\" , l = [2,3,4,45 , \"sudh\"])"
   ]
  },
  {
   "cell_type": "code",
   "execution_count": 88,
   "id": "78b253fa",
   "metadata": {},
   "outputs": [],
   "source": [
    "def test14(**kwargs):\n",
    "    count = 0\n",
    "    print(kwargs)\n",
    "    for v in kwargs.values():\n",
    "        if type(v) == str or type(v) == list:\n",
    "            count += 1\n",
    "    return count\n",
    "\n"
   ]
  },
  {
   "cell_type": "code",
   "execution_count": 89,
   "id": "4fbe0096",
   "metadata": {},
   "outputs": [
    {
     "name": "stdout",
     "output_type": "stream",
     "text": [
      "{'a': 7, 'b': 'sudh', 'c': 345, 'd': 'sudh', 'l': [2, 3, 4, 45, 'sudh']}\n"
     ]
    },
    {
     "data": {
      "text/plain": [
       "3"
      ]
     },
     "execution_count": 89,
     "metadata": {},
     "output_type": "execute_result"
    }
   ],
   "source": [
    "test14(a = 7, b = \"sudh\" , c = 345 , d = \"sudh\" , l = [2,3,4,45 , \"sudh\"])"
   ]
  },
  {
   "cell_type": "code",
   "execution_count": 90,
   "id": "8e2a72bf",
   "metadata": {},
   "outputs": [],
   "source": [
    "def test14(**kwargs):\n",
    "    count = 0\n",
    "    print(kwargs)\n",
    "    print(kwargs.values())\n",
    "    for v in kwargs.values():\n",
    "        if type(v) == str or type(v) == list:\n",
    "            count += 1\n",
    "    return count\n",
    "\n"
   ]
  },
  {
   "cell_type": "code",
   "execution_count": 91,
   "id": "04ceaef8",
   "metadata": {},
   "outputs": [
    {
     "name": "stdout",
     "output_type": "stream",
     "text": [
      "{'a': 7, 'b': 'sudh', 'c': 345, 'd': 'sudh', 'l': [2, 3, 4, 45, 'sudh']}\n",
      "dict_values([7, 'sudh', 345, 'sudh', [2, 3, 4, 45, 'sudh']])\n"
     ]
    },
    {
     "data": {
      "text/plain": [
       "3"
      ]
     },
     "execution_count": 91,
     "metadata": {},
     "output_type": "execute_result"
    }
   ],
   "source": [
    "test14(a = 7, b = \"sudh\" , c = 345 , d = \"sudh\" , l = [2,3,4,45 , \"sudh\"])"
   ]
  },
  {
   "cell_type": "code",
   "execution_count": 95,
   "id": "b279455f",
   "metadata": {},
   "outputs": [],
   "source": [
    "def test15(**kwargs) :\n",
    "    return list(kwargs.values())"
   ]
  },
  {
   "cell_type": "code",
   "execution_count": 96,
   "id": "4345b39e",
   "metadata": {},
   "outputs": [
    {
     "data": {
      "text/plain": [
       "[7, 'sudh', 345, 'sudh', [2, 3, 4, 45, 'sudh']]"
      ]
     },
     "execution_count": 96,
     "metadata": {},
     "output_type": "execute_result"
    }
   ],
   "source": [
    "test15(a = 7, b = \"sudh\" , c = 345 , d = \"sudh\" , l = [2,3,4,45 , \"sudh\"])"
   ]
  },
  {
   "cell_type": "code",
   "execution_count": null,
   "id": "8fe2e202",
   "metadata": {},
   "outputs": [],
   "source": []
  }
 ],
 "metadata": {
  "kernelspec": {
   "display_name": "Python 3 (ipykernel)",
   "language": "python",
   "name": "python3"
  },
  "language_info": {
   "codemirror_mode": {
    "name": "ipython",
    "version": 3
   },
   "file_extension": ".py",
   "mimetype": "text/x-python",
   "name": "python",
   "nbconvert_exporter": "python",
   "pygments_lexer": "ipython3",
   "version": "3.9.12"
  }
 },
 "nbformat": 4,
 "nbformat_minor": 5
}
